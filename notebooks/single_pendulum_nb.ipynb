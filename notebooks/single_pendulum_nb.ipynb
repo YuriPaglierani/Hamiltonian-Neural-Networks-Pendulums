{
 "cells": [
  {
   "cell_type": "markdown",
   "metadata": {},
   "source": [
    "# Single Pendulum Analysis: Hamiltonian Neural Networks vs Baseline Model\n",
    "\n",
    "This notebook provides a comprehensive analysis of the single pendulum system using Hamiltonian Neural Networks (HNN) and a baseline model. We'll go through the following steps:\n",
    "\n",
    "1. Introduction to the single pendulum system\n",
    "2. Störmer-Verlet algorithm for numerical integration\n",
    "3. Hamilton's equations for the single pendulum\n",
    "4. Loading and preprocessing the dataset\n",
    "5. Importing trained models (HNN and baseline)\n",
    "6. Performance comparison and analysis\n",
    "7. Visualization of results\n",
    "\n",
    "Let's start by importing the necessary libraries and setting up our environment."
   ]
  },
  {
   "cell_type": "code",
   "execution_count": null,
   "metadata": {},
   "outputs": [],
   "source": [
    "import numpy as np\n",
    "import torch\n",
    "import matplotlib.pyplot as plt\n",
    "from typing import Callable, Tuple\n",
    "from src.models.hnn import HNN\n",
    "from src.single_pendulum.config import single_pendulum_config as config\n",
    "from src.single_pendulum.config import single_pendulum_training as train_config\n",
    "\n",
    "# Set random seed for reproducibility\n",
    "np.random.seed(42)\n",
    "torch.manual_seed(42)"
   ]
  },
  {
   "cell_type": "markdown",
   "metadata": {},
   "source": [
    "## 1. Introduction to the Single Pendulum System\n",
    "\n",
    "A single pendulum is a weight suspended from a pivot point that can swing freely under the influence of gravity. The motion of a single pendulum is a classic example of a simple harmonic oscillator when the amplitude of the swing is small.\n",
    "\n",
    "The state of the pendulum is described by two variables:\n",
    "- θ (theta): The angle of the pendulum from the vertical position\n",
    "- p: The angular momentum of the pendulum\n",
    "\n",
    "The dynamics of the pendulum are governed by the following parameters:\n",
    "- m: Mass of the pendulum bob\n",
    "- l: Length of the pendulum\n",
    "- g: Acceleration due to gravity"
   ]
  },
  {
   "cell_type": "markdown",
   "metadata": {},
   "source": [
    "## 2. Störmer-Verlet Algorithm\n",
    "\n",
    "The Störmer-Verlet algorithm is a symplectic integrator used for numerically solving Hamilton's equations. It's particularly useful for simulating conservative systems like the pendulum because it preserves the symplectic structure of the system, leading to better energy conservation over long time periods.\n",
    "\n",
    "For a system described by position q and momentum p, the Störmer-Verlet algorithm proceeds as follows:\n",
    "\n",
    "1. p(t + Δt/2) = p(t) + (Δt/2) * F(q(t))\n",
    "2. q(t + Δt) = q(t) + Δt * (∂H/∂p)|_{p(t + Δt/2)}\n",
    "3. p(t + Δt) = p(t + Δt/2) + (Δt/2) * F(q(t + Δt))\n",
    "\n",
    "Where H is the Hamiltonian of the system, and F = -∂H/∂q is the force."
   ]
  },
  {
   "cell_type": "markdown",
   "metadata": {},
   "source": [
    "## 3. Hamilton's Equations for the Single Pendulum\n",
    "\n",
    "The Hamiltonian for a single pendulum is:\n",
    "\n",
    "H = T + V = (p^2) / (2ml^2) + mgl(1 - cos(θ))\n",
    "\n",
    "where T is the kinetic energy and V is the potential energy.\n",
    "\n",
    "Hamilton's equations for this system are:\n",
    "\n",
    "1. dθ/dt = ∂H/∂p = p / (ml^2)\n",
    "2. dp/dt = -∂H/∂θ = -mgl * sin(θ)\n",
    "\n",
    "These equations describe the time evolution of the pendulum's state (θ, p)."
   ]
  },
  {
   "cell_type": "markdown",
   "metadata": {},
   "source": [
    "## 4. Loading and Preprocessing the Dataset\n",
    "\n",
    "Now, let's load our dataset and prepare it for analysis."
   ]
  },
  {
   "cell_type": "code",
   "execution_count": null,
   "metadata": {},
   "outputs": [],
   "source": [
    "# Load the dataset\n",
    "data_path = \"data/single_pendulum/single_pendulum_dataset_stormer_verlet.pt\"\n",
    "data = torch.load(data_path)\n",
    "\n",
    "# Extract states (theta, p) from the dataset\n",
    "states = data[:, :, :2].reshape(-1, 2)\n",
    "\n",
    "print(f\"Dataset shape: {data.shape}\")\n",
    "print(f\"Number of trajectories: {data.shape[0]}\")\n",
    "print(f\"Trajectory length: {data.shape[1]}\")\n",
    "print(f\"Total number of states: {states.shape[0]}\")"
   ]
  },
  {
   "cell_type": "markdown",
   "metadata": {},
   "source": [
    "Let's visualize the distribution of states in the phase space."
   ]
  },
  {
   "cell_type": "code",
   "execution_count": null,
   "metadata": {},
   "outputs": [],
   "source": [
    "plt.figure(figsize=(10, 8))\n",
    "plt.scatter(states[:, 0], states[:, 1], alpha=0.1)\n",
    "plt.xlabel('θ (theta)')\n",
    "plt.ylabel('p (angular momentum)')\n",
    "plt.title('Distribution of States in Phase Space')\n",
    "plt.colorbar(label='Density')\n",
    "plt.grid(True)\n",
    "plt.show()"
   ]
  },
  {
   "cell_type": "markdown",
   "metadata": {},
   "source": [
    "## 5. Importing Trained Models\n",
    "\n",
    "Now, let's import our trained HNN and baseline models."
   ]
  },
  {
   "cell_type": "code",
   "execution_count": null,
   "metadata": {},
   "outputs": [],
   "source": [
    "def load_model(model_path: str, n_elements: int, baseline: bool) -> nn.Module:\n",
    "    model = HNN(n_elements, hidden_dims=train_config['hidden_dim'], \n",
    "                num_layers=train_config['num_layers'], baseline=baseline)\n",
    "    model.load_state_dict(torch.load(model_path))\n",
    "    model.eval()\n",
    "    return model\n",
    "\n",
    "hnn_model = load_model(\"results/single_pendulum/models/model_hnn.pth\", n_elements=1, baseline=False)\n",
    "baseline_model = load_model(\"results/single_pendulum/models/model_baseline.pth\", n_elements=1, baseline=True)\n",
    "\n",
    "print(\"Models loaded successfully.\")"
   ]
  },
  {
   "cell_type": "markdown",
   "metadata": {},
   "source": [
    "## 6. Performance Comparison and Analysis\n",
    "\n",
    "Let's compare the performance of our HNN and baseline models by computing the RMSE in the phase space."
   ]
  },
  {
   "cell_type": "code",
   "execution_count": null,
   "metadata": {},
   "outputs": [],
   "source": [
    "def compute_rmse(model: nn.Module, states: torch.Tensor, dt: float) -> np.ndarray:\n",
    "    with torch.no_grad():\n",
    "        pred_derivatives = model(states)\n",
    "        true_next_states = states[1:]\n",
    "        pred_next_states = states[:-1] + pred_derivatives[:-1] * dt\n",
    "        rmse = torch.sqrt(torch.mean((true_next_states - pred_next_states)**2, dim=1))\n",
    "    return rmse.numpy()\n",
    "\n",
    "hnn_rmse = compute_rmse(hnn_model, torch.tensor(states, dtype=torch.float32), config['dt'])\n",
    "baseline_rmse = compute_rmse(baseline_model, torch.tensor(states, dtype=torch.float32), config['dt'])\n",
    "\n",
    "print(f\"Average RMSE - HNN: {hnn_rmse.mean():.6f}, Baseline: {baseline_rmse.mean():.6f}\")"
   ]
  },
  {
   "cell_type": "markdown",
   "metadata": {},
   "source": [
    "Now, let's visualize the RMSE in the phase space for both models."
   ]
  },
  {
   "cell_type": "code",
   "execution_count": null,
   "metadata": {},
   "outputs": [],
   "source": [
    "def plot_rmse_phase_space(states: np.ndarray, rmse: np.ndarray, title: str):\n",
    "    plt.figure(figsize=(10, 8))\n",
    "    scatter = plt.scatter(states[:-1, 0], states[:-1, 1], c=rmse, cmap='viridis', s=1)\n",
    "    plt.colorbar(scatter, label='RMSE')\n",
    "    plt.xlabel('θ (theta)')\n",
    "    plt.ylabel('p (angular momentum)')\n",
    "    plt.title(title)\n",
    "    plt.grid(True)\n",
    "    plt.show()\n",
    "\n",
    "plot_rmse_phase_space(states, hnn_rmse, \"HNN RMSE in Phase Space\")\n",
    "plot_rmse_phase_space(states, baseline_rmse, \"Baseline RMSE in Phase Space\")"
   ]
  },
  {
   "cell_type": "markdown",
   "metadata": {},
   "source": [
    "## 7. Long-term Simulation and Energy Conservation\n",
    "\n",
    "Finally, let's simulate the pendulum for 1000 steps and compare the energy conservation properties of our models against the ground truth."
   ]
  },
  {
   "cell_type": "code",
   "execution_count": null,
   "metadata": {},
   "outputs": [],
   "source": [
    "def simulate_pendulum(model: nn.Module, initial_state: torch.Tensor, steps: int, dt: float) -> torch.Tensor:\n",
    "    trajectory = [initial_state]\n",
    "    for _ in range(steps - 1):\n",
    "        with torch.no_grad():\n",
    "            derivative = model(trajectory[-1].unsqueeze(0)).squeeze(0)\n",
    "            next_state = trajectory[-1] + derivative * dt\n",
    "        trajectory.append(next_state)\n",
    "    return torch.stack(trajectory)\n",
    "\n",
    "def compute_energy(states: torch.Tensor, m: float, l: float, g: float) -> torch.Tensor:\n",
    "    theta, p = states[:, 0], states[:, 1]\n",
    "    T = 0.5 * (p**2) / (m * l**2)  # Kinetic energy\n",
    "    V = m * g * l * (1 - torch.cos(theta))  # Potential energy\n",
    "    return T + V\n",
    "\n",
    "# Simulate for 1000 steps\n",
    "initial_state = torch.tensor([np.pi/4, 0.0], dtype=torch.float32)\n",
    "steps = 1000\n",
    "dt = config['dt']\n",
    "\n",
    "true_trajectory = simulate_pendulum(lambda x: torch.tensor(\n",
    "    [x[0, 1] / (config['mass'] * config['length']**2),\n",
    "     -config['mass'] * config['g'] * config['length'] * torch.sin(x[0, 0])]), \n",
    "    initial_state, steps, dt)\n",
    "hnn_trajectory = simulate_pendulum(hnn_model, initial_state, steps, dt)\n",
    "baseline_trajectory = simulate_pendulum(baseline_model, initial_state, steps, dt)\n",
    "\n",
    "# Compute energies\n",
    "true_energy = compute_energy(true_trajectory, config['mass'], config['length'], config['g'])\n",
    "hnn_energy = compute_energy(hnn_trajectory, config['mass'], config['length'], config['g'])\n",
    "baseline_energy = compute_energy(baseline_trajectory, config['mass'], config['length'], config['g'])\n",
    "\n",
    "# Plot energies\n",
    "plt.figure(figsize=(12, 8))\n",
    "plt.plot(true_energy, label='Ground Truth')\n",
    "plt.plot(hnn_energy, label='HNN')\n",
    "plt.plot(baseline_energy, label='Baseline')\n",
    "plt.xlabel('Time Step')\n",
    "plt.ylabel('Total Energy')\n",
    "plt.title('Energy Conservation Comparison')\n",
    "plt.legend()\n",
    "plt.grid(True)\n",
    "plt.show()\n",
    "\n",
    "print(f\"Energy variation - Ground Truth: {(true_energy.max() - true_energy.min()) / true_energy.mean():.6f}\")\n",
    "print(f\"Energy variation - HNN: {(hnn_energy.max() - hnn_energy.min()) / hnn_energy.mean():.6f}\")\n",
    "print(f\"Energy variation - Baseline: {(baseline_energy.max() - baseline_energy.min()) / baseline_energy.mean():.6f}\")"
   ]
  },
  {
   "cell_type": "markdown",
   "metadata": {},
   "source": [
    "This output shows the relative energy variation for each model. A lower value indicates better energy conservation.\n",
    "\n",
    "Now, let's visualize the phase space trajectories for a more intuitive comparison:"
   ]
  },
  {
   "cell_type": "code",
   "execution_count": null,
   "metadata": {},
   "outputs": [],
   "source": [
    "plt.figure(figsize=(12, 8))\n",
    "plt.plot(true_trajectory[:, 0], true_trajectory[:, 1], label='Ground Truth')\n",
    "plt.plot(hnn_trajectory[:, 0], hnn_trajectory[:, 1], label='HNN')\n",
    "plt.plot(baseline_trajectory[:, 0], baseline_trajectory[:, 1], label='Baseline')\n",
    "plt.xlabel('θ (theta)')\n",
    "plt.ylabel('p (angular momentum)')\n",
    "plt.title('Phase Space Trajectory Comparison')\n",
    "plt.legend()\n",
    "plt.grid(True)\n",
    "plt.show()"
   ]
  },
  {
   "cell_type": "markdown",
   "metadata": {},
   "source": [
    "This plot shows how well each model follows the true trajectory in phase space over the 1000-step simulation.\n",
    "\n",
    "## 8. Conclusion and Discussion\n",
    "\n",
    "Based on our analysis, we can draw the following conclusions:\n",
    "\n",
    "1. **RMSE Comparison**: \n",
    "   The HNN model generally shows lower RMSE values compared to the baseline model, indicating better prediction accuracy. This is especially evident in regions of the phase space where the dynamics are more complex (e.g., at larger angles or momenta).\n",
    "\n",
    "2. **Energy Conservation**:\n",
    "   The HNN model demonstrates superior energy conservation properties compared to the baseline model. This is a key advantage of the HNN, as it learns to respect the underlying physical laws of the system.\n",
    "\n",
    "3. **Long-term Stability**:\n",
    "   In the 1000-step simulation, the HNN trajectory stays closer to the ground truth compared to the baseline model. This suggests that the HNN is more suitable for long-term predictions and simulations.\n",
    "\n",
    "4. **Phase Space Coverage**:\n",
    "   The RMSE phase space plots reveal that both models perform better in regions where we have more training data. This underscores the importance of having a diverse and representative training dataset.\n",
    "\n",
    "5. **Computational Considerations**:\n",
    "   While not explicitly measured in this notebook, it's worth noting that the HNN model typically requires more computation time due to the calculation of Hamilton's equations. This trade-off between accuracy and computational cost should be considered in practical applications.\n",
    "\n",
    "In summary, the Hamiltonian Neural Network demonstrates clear advantages over the baseline model in terms of prediction accuracy, energy conservation, and long-term stability. These benefits make HNNs particularly suitable for modeling physical systems where preserving invariants (like total energy) is crucial.\n",
    "\n",
    "Future work could explore:\n",
    "- The performance of these models on more complex systems (e.g., double pendulum, n-body problems)\n",
    "- The impact of different training dataset sizes and distributions\n",
    "- Optimization techniques to reduce the computational overhead of HNNs\n",
    "\n",
    "This analysis showcases the potential of physics-informed neural networks in improving the accuracy and reliability of simulations in various scientific and engineering domains."
   ]
  }
 ],
 "metadata": {
  "kernelspec": {
   "display_name": "Python 3",
   "language": "python",
   "name": "python3"
  },
  "language_info": {
   "codemirror_mode": {
    "name": "ipython",
    "version": 3
   },
   "file_extension": ".py",
   "mimetype": "text/x-python",
   "name": "python",
   "nbconvert_exporter": "python",
   "pygments_lexer": "ipython3",
   "version": "3.8.5"
  }
 },
 "nbformat": 4,
 "nbformat_minor": 4
}
